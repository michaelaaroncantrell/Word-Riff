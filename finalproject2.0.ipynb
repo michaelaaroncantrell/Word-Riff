{
 "cells": [
  {
   "cell_type": "markdown",
   "metadata": {},
   "source": [
    "### Below I build three musical recommendation products, the interactive recommender, text based recommender, and the musical mashup. You can play with all three at http://michaelaaroncantrell.pythonanywhere.com/\n",
    "\n",
    "#### The data for this project was obtained courteous of J. McAuley, C. Targett, J. Shi, A. van den Hengel. The data can be found at http://jmcauley.ucsd.edu/data/amazon/links.html"
   ]
  },
  {
   "cell_type": "markdown",
   "metadata": {},
   "source": [
    "# <a class=\"anchor\" id=\"Table-of-Contents\"> Table of Contents </a>\n",
    "* [Import Data](#Import-Data)\n",
    "* [Clean Data](#Clean-Data)\n",
    "* [Collaborative Recommender](#Collaborative-Recommender)\n",
    "* [NLP Recommender](#NLP-Recommender)\n",
    "* [Interactive Recommender](#Interactive-Recommender)\n",
    "* [Text Based Recommender](#Text-Based-Recommender)\n",
    "* [Musical Mashup](#Musical-Mashup)"
   ]
  },
  {
   "cell_type": "markdown",
   "metadata": {},
   "source": [
    "#  <a class=\"anchor\" id=\"Import-Data\"> Import data </a>\n",
    "#### [Table of Contents](#Table-of-Contents) "
   ]
  },
  {
   "cell_type": "markdown",
   "metadata": {},
   "source": [
    "### I import data from a MongoDB database. There are two tables of interest."
   ]
  },
  {
   "cell_type": "code",
   "execution_count": 10,
   "metadata": {
    "collapsed": false
   },
   "outputs": [],
   "source": [
    "from pymongo import MongoClient\n",
    "import pandas as pd\n",
    "import numpy as np\n",
    "import matplotlib.pyplot as plt\n",
    "%matplotlib inline\n",
    "from scipy.sparse import csr_matrix\n",
    "from sklearn.metrics.pairwise import cosine_similarity\n",
    "from sklearn.feature_extraction.text import CountVectorizer\n",
    "from sklearn.preprocessing import normalize\n",
    "from sklearn.decomposition import NMF\n",
    "from sklearn.decomposition import TruncatedSVD\n",
    "import nltk\n",
    "from nltk.tokenize import PunktSentenceTokenizer\n",
    "from textblob import TextBlob\n",
    "from collections import defaultdict\n",
    "import pickle"
   ]
  },
  {
   "cell_type": "code",
   "execution_count": 2,
   "metadata": {
    "collapsed": false
   },
   "outputs": [
    {
     "name": "stdout",
     "output_type": "stream",
     "text": [
      "CPU times: user 52.4 s, sys: 3.53 s, total: 55.9 s\n",
      "Wall time: 1min 26s\n"
     ]
    }
   ],
   "source": [
    "%%time\n",
    "client = MongoClient('mongodb://localhost:27017/')\n",
    "db=client['amazon_music']\n",
    "\n",
    "cd_meta = db.cd_meta\n",
    "cd = db.cd\n",
    "\n",
    "meta_cursor = cd_meta.find({ });\n",
    "cd_cursor = cd.find( { \"unixReviewTime\": { \"$gt\": 1104550954} } );\n",
    "\n",
    "df_meta =  pd.DataFrame(list(meta_cursor))\n",
    "df_cd =  pd.DataFrame(list(cd_cursor))"
   ]
  },
  {
   "cell_type": "code",
   "execution_count": 3,
   "metadata": {
    "collapsed": false,
    "scrolled": true
   },
   "outputs": [
    {
     "name": "stdout",
     "output_type": "stream",
     "text": [
      "2672618\n"
     ]
    },
    {
     "data": {
      "text/html": [
       "<div>\n",
       "<table border=\"1\" class=\"dataframe\">\n",
       "  <thead>\n",
       "    <tr style=\"text-align: right;\">\n",
       "      <th></th>\n",
       "      <th>_id</th>\n",
       "      <th>asin</th>\n",
       "      <th>helpful</th>\n",
       "      <th>overall</th>\n",
       "      <th>reviewText</th>\n",
       "      <th>reviewTime</th>\n",
       "      <th>reviewerID</th>\n",
       "      <th>reviewerName</th>\n",
       "      <th>summary</th>\n",
       "      <th>unixReviewTime</th>\n",
       "    </tr>\n",
       "  </thead>\n",
       "  <tbody>\n",
       "    <tr>\n",
       "      <th>0</th>\n",
       "      <td>58af6aa9cd39546919fc73e5</td>\n",
       "      <td>0001393774</td>\n",
       "      <td>[0, 0]</td>\n",
       "      <td>5.0</td>\n",
       "      <td>fantastic. old time religion is good for me. t...</td>\n",
       "      <td>08 31, 2013</td>\n",
       "      <td>A9DMTMLFR9CO5</td>\n",
       "      <td>Albert Luguterah</td>\n",
       "      <td>i love it</td>\n",
       "      <td>1377907200</td>\n",
       "    </tr>\n",
       "    <tr>\n",
       "      <th>1</th>\n",
       "      <td>58af6aa9cd39546919fc73e6</td>\n",
       "      <td>0001393774</td>\n",
       "      <td>[0, 0]</td>\n",
       "      <td>5.0</td>\n",
       "      <td>I HAD THE ALBUM FOR YEARS AGO ....AND I AM VER...</td>\n",
       "      <td>07 2, 2013</td>\n",
       "      <td>AHG1GTQZUYNJN</td>\n",
       "      <td>CAROLYNE CHAMBERLAIN</td>\n",
       "      <td>PURE JOY!</td>\n",
       "      <td>1372723200</td>\n",
       "    </tr>\n",
       "    <tr>\n",
       "      <th>2</th>\n",
       "      <td>58af6aa9cd39546919fc73e7</td>\n",
       "      <td>0001393774</td>\n",
       "      <td>[0, 0]</td>\n",
       "      <td>5.0</td>\n",
       "      <td>Pure praise to throne room. He had a unique st...</td>\n",
       "      <td>04 2, 2014</td>\n",
       "      <td>A2TFO7NREP2B2D</td>\n",
       "      <td>cindy terpening_smith</td>\n",
       "      <td>pure</td>\n",
       "      <td>1396396800</td>\n",
       "    </tr>\n",
       "    <tr>\n",
       "      <th>3</th>\n",
       "      <td>58af6aa9cd39546919fc73e8</td>\n",
       "      <td>0001393774</td>\n",
       "      <td>[0, 0]</td>\n",
       "      <td>5.0</td>\n",
       "      <td>I have always loved Keith Green's music and ha...</td>\n",
       "      <td>02 15, 2014</td>\n",
       "      <td>A2YAPAG1IPNK7K</td>\n",
       "      <td>diane tousley</td>\n",
       "      <td>Love this CD!</td>\n",
       "      <td>1392422400</td>\n",
       "    </tr>\n",
       "    <tr>\n",
       "      <th>4</th>\n",
       "      <td>58af6aa9cd39546919fc73e9</td>\n",
       "      <td>0001393774</td>\n",
       "      <td>[13, 15]</td>\n",
       "      <td>5.0</td>\n",
       "      <td>Keith Green had a passionate love for Jesus.  ...</td>\n",
       "      <td>11 1, 2005</td>\n",
       "      <td>AEKGGV851HY3K</td>\n",
       "      <td>D. MILLS</td>\n",
       "      <td>Passionate Faith Is Contagious</td>\n",
       "      <td>1130803200</td>\n",
       "    </tr>\n",
       "  </tbody>\n",
       "</table>\n",
       "</div>"
      ],
      "text/plain": [
       "                        _id        asin   helpful  overall  \\\n",
       "0  58af6aa9cd39546919fc73e5  0001393774    [0, 0]      5.0   \n",
       "1  58af6aa9cd39546919fc73e6  0001393774    [0, 0]      5.0   \n",
       "2  58af6aa9cd39546919fc73e7  0001393774    [0, 0]      5.0   \n",
       "3  58af6aa9cd39546919fc73e8  0001393774    [0, 0]      5.0   \n",
       "4  58af6aa9cd39546919fc73e9  0001393774  [13, 15]      5.0   \n",
       "\n",
       "                                          reviewText   reviewTime  \\\n",
       "0  fantastic. old time religion is good for me. t...  08 31, 2013   \n",
       "1  I HAD THE ALBUM FOR YEARS AGO ....AND I AM VER...   07 2, 2013   \n",
       "2  Pure praise to throne room. He had a unique st...   04 2, 2014   \n",
       "3  I have always loved Keith Green's music and ha...  02 15, 2014   \n",
       "4  Keith Green had a passionate love for Jesus.  ...   11 1, 2005   \n",
       "\n",
       "       reviewerID           reviewerName                         summary  \\\n",
       "0   A9DMTMLFR9CO5       Albert Luguterah                       i love it   \n",
       "1   AHG1GTQZUYNJN   CAROLYNE CHAMBERLAIN                       PURE JOY!   \n",
       "2  A2TFO7NREP2B2D  cindy terpening_smith                            pure   \n",
       "3  A2YAPAG1IPNK7K          diane tousley                   Love this CD!   \n",
       "4   AEKGGV851HY3K               D. MILLS  Passionate Faith Is Contagious   \n",
       "\n",
       "   unixReviewTime  \n",
       "0      1377907200  \n",
       "1      1372723200  \n",
       "2      1396396800  \n",
       "3      1392422400  \n",
       "4      1130803200  "
      ]
     },
     "execution_count": 3,
     "metadata": {},
     "output_type": "execute_result"
    }
   ],
   "source": [
    "print(df_cd.shape[0])\n",
    "df_cd.head()"
   ]
  },
  {
   "cell_type": "code",
   "execution_count": 4,
   "metadata": {
    "collapsed": false,
    "scrolled": true
   },
   "outputs": [
    {
     "data": {
      "text/html": [
       "<div>\n",
       "<table border=\"1\" class=\"dataframe\">\n",
       "  <thead>\n",
       "    <tr style=\"text-align: right;\">\n",
       "      <th></th>\n",
       "      <th>_id</th>\n",
       "      <th>asin</th>\n",
       "      <th>brand</th>\n",
       "      <th>categories</th>\n",
       "      <th>description</th>\n",
       "      <th>imUrl</th>\n",
       "      <th>price</th>\n",
       "      <th>related</th>\n",
       "      <th>salesRank</th>\n",
       "      <th>title</th>\n",
       "    </tr>\n",
       "  </thead>\n",
       "  <tbody>\n",
       "    <tr>\n",
       "      <th>0</th>\n",
       "      <td>58af5fb3cd39546919f72c04</td>\n",
       "      <td>0001501348</td>\n",
       "      <td>NaN</td>\n",
       "      <td>[[CDs &amp; Vinyl, Christian, Pop &amp; Contemporary],...</td>\n",
       "      <td>Lenny LeBlanc, Alex Acuna, Justo Almario, Tom ...</td>\n",
       "      <td>http://ecx.images-amazon.com/images/I/412JH6CM...</td>\n",
       "      <td>NaN</td>\n",
       "      <td>{'also_bought': ['6303646611', 'B000002C45', '...</td>\n",
       "      <td>{'Movies &amp; TV': 359265}</td>\n",
       "      <td>Lift Him Up With Ron Kenoly [VHS]</td>\n",
       "    </tr>\n",
       "    <tr>\n",
       "      <th>1</th>\n",
       "      <td>58af5fb3cd39546919f72c05</td>\n",
       "      <td>0001393774</td>\n",
       "      <td></td>\n",
       "      <td>[[CDs &amp; Vinyl, Christian]]</td>\n",
       "      <td>Audio CD</td>\n",
       "      <td>http://ecx.images-amazon.com/images/I/51MC7A5N...</td>\n",
       "      <td>16.64</td>\n",
       "      <td>{'also_bought': ['B0016CP2GS', 'B0000275QQ', '...</td>\n",
       "      <td>{'Music': 41017}</td>\n",
       "      <td>Songs for the Shepherd</td>\n",
       "    </tr>\n",
       "    <tr>\n",
       "      <th>2</th>\n",
       "      <td>58af5fb3cd39546919f72c06</td>\n",
       "      <td>0005123909</td>\n",
       "      <td>NaN</td>\n",
       "      <td>[[CDs &amp; Vinyl, Children's Music], [Movies &amp; TV...</td>\n",
       "      <td>18 Music Videos for Kids: Do Your Ears Hang Lo...</td>\n",
       "      <td>http://ecx.images-amazon.com/images/I/41K31EWE...</td>\n",
       "      <td>29.98</td>\n",
       "      <td>{'also_bought': ['B00000JLTM', 'B00006L97L', '...</td>\n",
       "      <td>{'Movies &amp; TV': 451209}</td>\n",
       "      <td>Silly Songs: 18 Wholesome Fun Songs for Kids [...</td>\n",
       "    </tr>\n",
       "    <tr>\n",
       "      <th>3</th>\n",
       "      <td>58af5fb3cd39546919f72c07</td>\n",
       "      <td>0005072298</td>\n",
       "      <td>NaN</td>\n",
       "      <td>[[CDs &amp; Vinyl, Children's Music], [CDs &amp; Vinyl...</td>\n",
       "      <td>NaN</td>\n",
       "      <td>http://ecx.images-amazon.com/images/I/510RRJWQ...</td>\n",
       "      <td>6.26</td>\n",
       "      <td>{'also_viewed': ['B00000DPLL', 'B000008UPG', '...</td>\n",
       "      <td>{'Music': 350804}</td>\n",
       "      <td>Hymns: 16 Classic Hymns for Children</td>\n",
       "    </tr>\n",
       "    <tr>\n",
       "      <th>4</th>\n",
       "      <td>58af5fb3cd39546919f72c08</td>\n",
       "      <td>0005224896</td>\n",
       "      <td>NaN</td>\n",
       "      <td>[[CDs &amp; Vinyl, Christian, Praise &amp; Worship]]</td>\n",
       "      <td>NaN</td>\n",
       "      <td>http://ecx.images-amazon.com/images/I/51SS0SRM...</td>\n",
       "      <td>8.99</td>\n",
       "      <td>{'also_bought': ['B001EMSQOK', 'B001EMQ6H4', '...</td>\n",
       "      <td>{'Music': 347825}</td>\n",
       "      <td>Voice of the Wind: Personal Worship, Vol. 1</td>\n",
       "    </tr>\n",
       "  </tbody>\n",
       "</table>\n",
       "</div>"
      ],
      "text/plain": [
       "                        _id        asin brand  \\\n",
       "0  58af5fb3cd39546919f72c04  0001501348   NaN   \n",
       "1  58af5fb3cd39546919f72c05  0001393774         \n",
       "2  58af5fb3cd39546919f72c06  0005123909   NaN   \n",
       "3  58af5fb3cd39546919f72c07  0005072298   NaN   \n",
       "4  58af5fb3cd39546919f72c08  0005224896   NaN   \n",
       "\n",
       "                                          categories  \\\n",
       "0  [[CDs & Vinyl, Christian, Pop & Contemporary],...   \n",
       "1                         [[CDs & Vinyl, Christian]]   \n",
       "2  [[CDs & Vinyl, Children's Music], [Movies & TV...   \n",
       "3  [[CDs & Vinyl, Children's Music], [CDs & Vinyl...   \n",
       "4       [[CDs & Vinyl, Christian, Praise & Worship]]   \n",
       "\n",
       "                                         description  \\\n",
       "0  Lenny LeBlanc, Alex Acuna, Justo Almario, Tom ...   \n",
       "1                                           Audio CD   \n",
       "2  18 Music Videos for Kids: Do Your Ears Hang Lo...   \n",
       "3                                                NaN   \n",
       "4                                                NaN   \n",
       "\n",
       "                                               imUrl  price  \\\n",
       "0  http://ecx.images-amazon.com/images/I/412JH6CM...    NaN   \n",
       "1  http://ecx.images-amazon.com/images/I/51MC7A5N...  16.64   \n",
       "2  http://ecx.images-amazon.com/images/I/41K31EWE...  29.98   \n",
       "3  http://ecx.images-amazon.com/images/I/510RRJWQ...   6.26   \n",
       "4  http://ecx.images-amazon.com/images/I/51SS0SRM...   8.99   \n",
       "\n",
       "                                             related                salesRank  \\\n",
       "0  {'also_bought': ['6303646611', 'B000002C45', '...  {'Movies & TV': 359265}   \n",
       "1  {'also_bought': ['B0016CP2GS', 'B0000275QQ', '...         {'Music': 41017}   \n",
       "2  {'also_bought': ['B00000JLTM', 'B00006L97L', '...  {'Movies & TV': 451209}   \n",
       "3  {'also_viewed': ['B00000DPLL', 'B000008UPG', '...        {'Music': 350804}   \n",
       "4  {'also_bought': ['B001EMSQOK', 'B001EMQ6H4', '...        {'Music': 347825}   \n",
       "\n",
       "                                               title  \n",
       "0                  Lift Him Up With Ron Kenoly [VHS]  \n",
       "1                             Songs for the Shepherd  \n",
       "2  Silly Songs: 18 Wholesome Fun Songs for Kids [...  \n",
       "3               Hymns: 16 Classic Hymns for Children  \n",
       "4        Voice of the Wind: Personal Worship, Vol. 1  "
      ]
     },
     "execution_count": 4,
     "metadata": {},
     "output_type": "execute_result"
    }
   ],
   "source": [
    "df_meta.head()"
   ]
  },
  {
   "cell_type": "markdown",
   "metadata": {},
   "source": [
    "# <a class=\"anchor\" id=\"Clean-Data\"> Clean Data </a>\n",
    "#### [Table of Contents](#Table-of-Contents) "
   ]
  },
  {
   "cell_type": "markdown",
   "metadata": {},
   "source": [
    "### There are a few genres that aren't really 'music'. Also, for whatever reason, VHS is included in the heading \"CD's & Vinyl\" - I'll exclude those, too. Finally, I only include those reviews for which the album was reviewed at least 20 times, and the user has reviewed at least 5 albums, so that the data isn't too sparse."
   ]
  },
  {
   "cell_type": "code",
   "execution_count": 5,
   "metadata": {
    "collapsed": true
   },
   "outputs": [],
   "source": [
    "def make_cond(idx):\n",
    "    genres = set(['Instructional', 'Special Interest', 'Comedy & Spoken Word', 'Radio Shows'])\n",
    "    categories = df_meta.iloc[idx]['categories']\n",
    "    item_categories = set([cat for sublist in categories for cat in sublist])\n",
    "    condition = (('[VHS]' not in df_meta.iloc[idx]['title']) & (item_categories.intersection(genres) == set()))\n",
    "    return condition\n",
    "\n",
    "\n",
    "def genre_and_cd_subset(df_cd, df_meta):\n",
    "    df_meta = df_meta[df_meta['title'].notnull()]\n",
    "    l = [idx for idx in list(range(df_meta.shape[0])) if make_cond(idx)]\n",
    "    albums_asin = list(df_meta.iloc[l]['asin'])\n",
    "    df_cd = df_cd[df_cd['asin'].isin(albums_asin)]\n",
    "    return df_cd\n",
    "    \n",
    "\n",
    "def subset_on_reviews(df, n=20, m=5):\n",
    "    num_reviews_per_reviewer = df.groupby('reviewerID').count()['_id'].reset_index()\n",
    "    reviewer_reviewed_enough = num_reviews_per_reviewer[num_reviews_per_reviewer['_id']>=m]\n",
    "    reviewer_reviewed_enough_indices = list(reviewer_reviewed_enough['reviewerID'].values)\n",
    "    df = df[df['reviewerID'].isin(reviewer_reviewed_enough_indices)]\n",
    "    \n",
    "    num_reviews_per_album = df.groupby('asin').count()['_id'].reset_index()\n",
    "    album_reviewed_enough = num_reviews_per_album[num_reviews_per_album['_id']>=n]\n",
    "    album_reviewed_enough_indices = list(album_reviewed_enough['asin'].values)\n",
    "    df = df[df['asin'].isin(album_reviewed_enough_indices)]\n",
    "    return df\n",
    "    \n",
    "    \n",
    "def clean_data(df_cd, df_meta):\n",
    "    df_meta=df_meta[['_id','asin', 'categories', 'related', 'title']]\n",
    "    df = genre_and_cd_subset(df_cd, df_meta)\n",
    "    df = subset_on_reviews(df, 20, 5)\n",
    "    albums = set(df['asin'].unique())\n",
    "    album_list = list(albums)\n",
    "    print('df shape', df.shape, 'number of unique albums', len(album_list))\n",
    "    return df, df_meta, albums, album_list  "
   ]
  },
  {
   "cell_type": "code",
   "execution_count": 6,
   "metadata": {
    "collapsed": false
   },
   "outputs": [
    {
     "name": "stdout",
     "output_type": "stream",
     "text": [
      "df shape (177163, 10) number of unique albums 4162\n"
     ]
    }
   ],
   "source": [
    "df_reviews, df_meta, albums, album_list = clean_data(df_cd, df_meta)"
   ]
  },
  {
   "cell_type": "markdown",
   "metadata": {},
   "source": [
    "# <a class=\"anchor\" id=\"Collaborative-Recommender\"> Collaborative Recommender </a>\n",
    "#### [Table of Contents](#Table-of-Contents) "
   ]
  },
  {
   "cell_type": "markdown",
   "metadata": {},
   "source": [
    "### The collaborative recommender is my take on Amazon's classic recommendation system. It works by using dimension reduction (SVD in this case) to extract latent relationships between users and ratings."
   ]
  },
  {
   "cell_type": "code",
   "execution_count": 38,
   "metadata": {
    "collapsed": true
   },
   "outputs": [],
   "source": [
    "def make_dics(df):\n",
    "    albums = df['asin'].unique()\n",
    "    reviewers = df['reviewerID'].unique()\n",
    "    \n",
    "    dic_asin = {}\n",
    "    dic_asin_reverse = {}\n",
    "    for j, asin in enumerate(albums):\n",
    "        dic_asin[j]=asin\n",
    "        dic_asin_reverse[asin] = j\n",
    "    \n",
    "    dic_reviewer = {}\n",
    "    dic_reviewer_reverse = {}\n",
    "    for j, reviewerID in enumerate(reviewers):\n",
    "        dic_reviewer[j]=reviewerID\n",
    "        dic_reviewer_reverse[reviewerID] = j\n",
    "        \n",
    "    return dic_asin, dic_asin_reverse, dic_reviewer, dic_reviewer_reverse\n",
    "\n",
    "\n",
    "def make_collab_recommender(df):\n",
    "    dic_asin, dic_asin_reverse, dic_reviewer, dic_reviewer_reverse = make_dics(df)\n",
    "    df['asin_integer'] = df['asin'].apply(lambda x: dic_asin_reverse[x])\n",
    "    df['reviewerID_integer'] = df['reviewerID'].apply(lambda x: dic_reviewer_reverse[x])\n",
    "    sparse_mat = csr_matrix((np.array(df['overall']), (np.array(df['asin_integer']),\\\n",
    "                                                       np.array(df['reviewerID_integer']))))\n",
    "    svd = TruncatedSVD(n_components=100, random_state=42)\n",
    "    arr = svd.fit_transform(sparse_mat)\n",
    "    similarity = cosine_similarity(arr)\n",
    "    return similarity, dic_asin, dic_asin_reverse\n",
    "\n",
    "\n",
    "def make_asin_title_dic():\n",
    "    dic = {}\n",
    "    for idx in range(df_meta.shape[0]):\n",
    "        row = df_meta.iloc[idx]\n",
    "        dic[row['asin']]=row['title']\n",
    "    return dic\n",
    "\n",
    "\n",
    "def collab_recommender(asin):\n",
    "    idx = dic_asin_reverse[asin]\n",
    "    l = [[simil[idx][i],dic_asin[i]] for i in range(simil.shape[0])]\n",
    "    l.sort(reverse=True)\n",
    "    return l"
   ]
  },
  {
   "cell_type": "code",
   "execution_count": null,
   "metadata": {
    "collapsed": true
   },
   "outputs": [],
   "source": [
    "asin_title_dic = make_asin_title_dic()\n",
    "simil, dic_asin, dic_asin_reverse = make_collab_recommender(df_reviews)"
   ]
  },
  {
   "cell_type": "code",
   "execution_count": 45,
   "metadata": {
    "collapsed": false
   },
   "outputs": [
    {
     "name": "stdout",
     "output_type": "stream",
     "text": [
      "The top recommendations for Live at the Regal by B.B. King:\n"
     ]
    },
    {
     "data": {
      "text/plain": [
       "['Live at the Regal',\n",
       " 'My Favorite Things',\n",
       " 'Live at the Fillmore',\n",
       " \"Workingman's Dead\",\n",
       " 'Round About Midnight',\n",
       " 'Giant Steps',\n",
       " 'The Fillmore Concerts',\n",
       " 'Blue Train',\n",
       " \"This Year's Model\",\n",
       " 'My Aim Is True']"
      ]
     },
     "execution_count": 45,
     "metadata": {},
     "output_type": "execute_result"
    }
   ],
   "source": [
    "print('The top recommendations for', asin_title_dic['B000002P72'], 'by B.B. King:')\n",
    "[asin_title_dic[rec[1]] for rec in collab_recommender('B000002P72')[:10]]"
   ]
  },
  {
   "cell_type": "markdown",
   "metadata": {
    "collapsed": true
   },
   "source": [
    "# <a class=\"anchor\" id=\"NLP-Recommender\"> NLP Recommender </a>\n",
    "#### [Table of Contents](#Table-of-Contents) "
   ]
  },
  {
   "cell_type": "markdown",
   "metadata": {},
   "source": [
    "### The NLP recommender is built by taking reviews sentence by sentence. We reduce dimension and find latent topics using NMF and Count Vectorizer, and simultaneously use sentiment analysis to judge the positivity of the review. Multiplying these gives a score for the album. Taking the mean over all sentences about a given album results in a score for the album. Finally, these are normalized by album. The recommender works by finding the closest albums in cosine similarity in the dimension reduced space.\n",
    "\n",
    "### Below I print the top words in each topic that NMF found to get a feel for what the topic is about. I also print the top albums and bottom 5 albums in each topic. Six of the thirty topics are removed since they do not seem to be musical, but rather about price, shipment, etc."
   ]
  },
  {
   "cell_type": "code",
   "execution_count": 65,
   "metadata": {
    "collapsed": true
   },
   "outputs": [],
   "source": [
    "def make_corpus_and_table(df):\n",
    "    sentence_tokenizer = PunktSentenceTokenizer()\n",
    "    df_sentences = df.groupby('asin')['reviewText'].sum().apply(sentence_tokenizer.tokenize)\n",
    "    corpus = df_sentences.sum()\n",
    "    return df_sentences, corpus\n",
    "\n",
    "    \n",
    "def make_corpus_sentences_vect_model(df):\n",
    "    df_sentences, corpus = make_corpus_and_table(df)\n",
    "    vect = CountVectorizer(ngram_range=(1,2), token_pattern=\"\\\\b[a-z][a-z]+\\\\b\", \\\n",
    "                           stop_words='english', max_df = 0.07) \n",
    "    counts = vect.fit_transform(corpus)\n",
    "    model = NMF(n_components=30, init='random', random_state=0)\n",
    "    model.fit(counts) \n",
    "    return corpus, df_sentences, vect, model\n",
    "\n",
    "\n",
    "def return_top_words(model, feature_names, n_top_words):\n",
    "    result = []\n",
    "     \n",
    "    for topic_idx, topic in enumerate(model.components_):\n",
    "        print()\n",
    "        print(\"Topic #%d:\" % topic_idx)\n",
    "        print(\", \".join([feature_names[i]\n",
    "                        for i in topic.argsort()[:-n_top_words - 1:-1]]))\n",
    "        print() \n",
    "\n",
    "\n",
    "def print_extreme_albums(df):\n",
    "    for col in df.columns:\n",
    "        print('Top 5 for Topic {0}:'.format(col))\n",
    "        print()\n",
    "        for album in df[col].sort_values().tail().index:\n",
    "            print(asin_title_dic[album])\n",
    "        print()\n",
    "        print('Bottom 5 for {0}'.format(col))\n",
    "        print()\n",
    "        for album in df[col].sort_values().head().index:\n",
    "            print(asin_title_dic[album])\n",
    "        print()\n",
    "\n",
    "\n",
    "def make_topics_sentiments(review_list, model, count_vectorizer):\n",
    "    '''Given a list of sentence reviews for one album, an NMF model, the count_vectorizer that made the model \\\n",
    "    and n_components, returns an array representing the score of the album in the topics.'''\n",
    "    l  = []\n",
    "    review_vec = count_vectorizer.transform(review_list)\n",
    "    matrix = model.transform(review_vec)\n",
    "    for row in range(matrix.shape[0]):\n",
    "        topic_probs = matrix[row]\n",
    "        sentiment = TextBlob(review_list[row]).sentiment.polarity\n",
    "        l.append(sentiment*topic_probs)\n",
    "    \n",
    "    return [np.array(coord).sum()/matrix.shape[0] for coord in zip(*l)]\n",
    "\n",
    "\n",
    "def rate_topics(df, model, count_vectorizer):\n",
    "    ''' Given a list of album asins to score, an NMF model, the counter_vectorizer that made the model \\\n",
    "    , returns a dataframe with index the albums' asins, columns the topics \\\n",
    "    and rows the albums scores.'''\n",
    "    asin_list = df['asin'].unique()\n",
    "    dic = {}\n",
    "    for asin in asin_list:\n",
    "        review_list = list(df[df['asin']==asin]['reviewText'])[0]\n",
    "        ratings = make_topics_sentiments(review_list, model, count_vectorizer)\n",
    "        dic[asin] = ratings\n",
    "    return pd.DataFrame(dic).transpose()\n",
    "\n",
    "\n",
    "def normalize_and_round(df, amt_scale):\n",
    "    df_norm = pd.DataFrame(normalize(df, axis=1), columns = df.columns, index = df.index)\n",
    "    return df_norm.multiply(amt_scale).round(2)\n",
    "\n",
    "\n",
    "def make_nlp_simil(df, model, count_vectorizer):\n",
    "    df = df.reset_index()\n",
    "    df_rate_topics = rate_topics(df, model, count_vectorizer)\n",
    "    df_ratings = normalize_and_round(df_rate_topics, 100)\n",
    "    nlp_simil = cosine_similarity(df_ratings)\n",
    "    return nlp_simil, df_ratings\n",
    "\n",
    "\n",
    "def nlp_recommender(asin):\n",
    "    idx = dic_asin_reverse[asin]\n",
    "    l = [[nlp_simil_topics[idx][i],dic_asin[i]] for i in range(nlp_simil_topics.shape[0])]\n",
    "    l.sort(reverse=True)\n",
    "    return l"
   ]
  },
  {
   "cell_type": "code",
   "execution_count": null,
   "metadata": {
    "collapsed": true
   },
   "outputs": [],
   "source": [
    "corpus, df_sentences, vect, model = make_corpus_sentences_vect_model(df_reviews)"
   ]
  },
  {
   "cell_type": "code",
   "execution_count": 54,
   "metadata": {
    "collapsed": false,
    "scrolled": true
   },
   "outputs": [
    {
     "name": "stdout",
     "output_type": "stream",
     "text": [
      "\n",
      "Topic #0:\n",
      "jazz, miles, blue, fusion, funk, davis, jazz rock, musicians\n",
      "\n",
      "\n",
      "Topic #1:\n",
      "cds, chingy, buy chingy, chingy cds, cds buy, best cds, greatest hits, favorite cds\n",
      "\n",
      "\n",
      "Topic #2:\n",
      "stones, rolling, rolling stones, rock roll, horrible, stones horrible, horrible stones, stone\n",
      "\n",
      "\n",
      "Topic #3:\n",
      "zeppelin, led, led zeppelin, rocks, zeppelin rocks, rocks led, page, iv\n",
      "\n",
      "\n",
      "Topic #4:\n",
      "hip, hop, hip hop, beats, nas, hop album, funk, real hip\n",
      "\n",
      "\n",
      "Topic #5:\n",
      "dylan, bob, bob dylan, folk, blonde, career, electric, blood\n",
      "\n",
      "\n",
      "Topic #6:\n",
      "riffs, fast, slow, solos, starts, riff, guitar riffs, melodic\n",
      "\n",
      "\n",
      "Topic #7:\n",
      "punk, green, green day, american, punk rock, sucks, pop punk, wave\n",
      "\n",
      "\n",
      "Topic #8:\n",
      "rap, beats, game, gangsta, hate, dont, west, rap album\n",
      "\n",
      "\n",
      "Topic #9:\n",
      "van, halen, van halen, roth, hagar, david, eddie, lee\n",
      "\n",
      "\n",
      "Topic #10:\n",
      "guitars, drums, piano, acoustic, lead, electric, acoustic guitar, keyboards\n",
      "\n",
      "\n",
      "Topic #11:\n",
      "floyd, pink, pink floyd, dark, waters, moon, gilmour, wall\n",
      "\n",
      "\n",
      "Topic #12:\n",
      "hot, singles, billboard, billboard hot, red, produced, red hot, peppers\n",
      "\n",
      "\n",
      "Topic #13:\n",
      "kiss, paul, rock roll, mccartney, paul mccartney, ace, gene, peter\n",
      "\n",
      "\n",
      "Topic #14:\n",
      "death, death metal, melodic, thrash, melodic death, brutal, metal bands, genre\n",
      "\n",
      "\n",
      "Topic #15:\n",
      "country, country music, folk, country rock, american, rock roll, cash, traditional\n",
      "\n",
      "\n",
      "Topic #16:\n",
      "deep, purple, deep purple, head, machine, blackmore, mobb, ian\n",
      "\n",
      "\n",
      "Topic #17:\n",
      "dance, madonna, floor, dance floor, beats, dance music, sing, girl\n",
      "\n",
      "\n",
      "Topic #18:\n",
      "bonus, mix, bonus tracks, versions, remastered, edition, included, lp\n",
      "\n",
      "\n",
      "Topic #19:\n",
      "sabbath, black sabbath, ozzy, dio, hell, era, heavy metal, tony\n",
      "\n",
      "\n",
      "Topic #20:\n",
      "making, money, records, making music, making album, artist, dire, straits\n",
      "\n",
      "\n",
      "Topic #21:\n",
      "la, que, el, en, es, oacute, los, una\n",
      "\n",
      "\n",
      "Topic #22:\n",
      "concert, rush, video, tour, performance, saw, seen, stage\n",
      "\n",
      "\n",
      "Topic #23:\n",
      "maiden, number, iron, iron maiden, bruce, piece, metallica, dark\n",
      "\n",
      "\n",
      "Topic #24:\n",
      "dc, ac, ac dc, hell, rock roll, dc rock, rock ac, bon\n",
      "\n",
      "\n",
      "Topic #25:\n",
      "career, written, girl, line, tell, opinion, sing, god\n",
      "\n",
      "\n",
      "Topic #26:\n",
      "ago, listened, previous, remember, getting, years ago, guys, having\n",
      "\n",
      "\n",
      "Topic #27:\n",
      "star, reviews, rating, star rating, star album, star reviews, read, gave\n",
      "\n",
      "\n",
      "Topic #28:\n",
      "half, minutes, second half, half album, minute, short, instrumental, half songs\n",
      "\n",
      "\n",
      "Topic #29:\n",
      "highly, recommend, recommended, highly recommended, highly recommend, recommend album, recommend cd, album highly\n",
      "\n"
     ]
    }
   ],
   "source": [
    "return_top_words(model, vect.get_feature_names(), 8)"
   ]
  },
  {
   "cell_type": "code",
   "execution_count": null,
   "metadata": {
    "collapsed": false,
    "scrolled": true
   },
   "outputs": [],
   "source": [
    "nlp_simil, df_ratings = make_nlp_simil(df_sentences, model, vect)\n",
    "df_ratings_topics = df_ratings.drop([1,18,20,27,28,29], axis=1)\n",
    "nlp_simil_topics = cosine_similarity(df_ratings_topics) "
   ]
  },
  {
   "cell_type": "code",
   "execution_count": 66,
   "metadata": {
    "collapsed": false
   },
   "outputs": [
    {
     "name": "stdout",
     "output_type": "stream",
     "text": [
      "Top 5 for Topic 0:\n",
      "\n",
      "A Love Supreme\n",
      "Bitches Brew\n",
      "Birth of the Cool\n",
      "Kind of Blue\n",
      "The Shape of Jazz to Come\n",
      "\n",
      "Bottom 5 for 0\n",
      "\n",
      "In a Metal Mood: No More Mr Nice Guy\n",
      "Worlds Apart (Collectors Edition CD + DVD)\n",
      "Greatest Hits 1970-1978\n",
      "The Gold Experience\n",
      "Famous Last Words\n",
      "\n",
      "Top 5 for Topic 1:\n",
      "\n",
      "Bee Gees - Record: Their Greatest Hits\n",
      "Smells Like Children\n",
      "This Left Feels Right\n",
      "Hoodstar\n",
      "Jackpot\n",
      "\n",
      "Bottom 5 for 1\n",
      "\n",
      "Kidz Bop 8\n",
      "100,000,000 Bon Jovi Fans Can't Be Wrong\n",
      "Stories &amp; Alibis\n",
      "Greatest Hitz\n",
      "Down for Life\n",
      "\n",
      "Top 5 for Topic 2:\n",
      "\n",
      "Big Hits (High Tide and Green Grass)\n",
      "12 X 5\n",
      "Jump Back: The Best of the Rolling Stones\n",
      "Aftermath\n",
      "Steel Wheels\n",
      "\n",
      "Bottom 5 for 2\n",
      "\n",
      "On Top of Our Game\n",
      "Corey Clark\n",
      "I Monarch\n",
      "Warning\n",
      "If Only You Were Lonely\n",
      "\n",
      "Top 5 for Topic 3:\n",
      "\n",
      "Led Zeppelin III\n",
      "Led Zeppelin 1\n",
      "Physical Graffiti\n",
      "Houses Of The Holy\n",
      "Coda\n",
      "\n",
      "Bottom 5 for 3\n",
      "\n",
      "Firm\n",
      "Warning\n",
      "Straight Up\n",
      "Cyclorama\n",
      "Very Best &amp; Beyond\n",
      "\n",
      "Top 5 for Topic 4:\n",
      "\n",
      "Ironman\n",
      "Hip Hop Is Dead\n",
      "MM..Food\n",
      "The Listening\n",
      "Enta Da Stage\n",
      "\n",
      "Bottom 5 for 4\n",
      "\n",
      "Savage Life\n",
      "Certified\n",
      "Powerballin\n",
      "Cheers\n",
      "Return to the 36 Chambers: The Dirty Version\n",
      "\n",
      "Top 5 for Topic 5:\n",
      "\n",
      "Oh Mercy\n",
      "The Bootleg Series, Vols. 1-3 : Rare And Unreleased, 1961-1991\n",
      "Another Side of Bob Dylan\n",
      "Desire\n",
      "The Best of Bob Dylan\n",
      "\n",
      "Bottom 5 for 5\n",
      "\n",
      "Dylan &amp; The Dead\n",
      "Lifted or The Story Is in the Soil, Keep Your Ear to the Ground\n",
      "Take It All Away\n",
      "Stars Are Blind\n",
      "Lucinda Williams\n",
      "\n",
      "Top 5 for Topic 6:\n",
      "\n",
      "Bonded By Blood\n",
      "The New Order\n",
      "Years of Decay\n",
      "Houses of the Mole'\n",
      "The Legacy\n",
      "\n",
      "Bottom 5 for 6\n",
      "\n",
      "Don't Cha\n",
      "Only in Amerika\n",
      "Antichrist Superstar\n",
      "Sailing the Seas of Cheese\n",
      "Fundamental / Fundamentalism\n",
      "\n",
      "Top 5 for Topic 7:\n",
      "\n",
      "Fresh Fruit for Rotting Vegetables\n",
      "Complete Discography\n",
      "Never Mind The Bollocks, Here's The Sex Pistols\n",
      "The Record\n",
      "...And Out Come The Wolves\n",
      "\n",
      "Bottom 5 for 7\n",
      "\n",
      "Burzum / Aske\n",
      "Greatest Hitz\n",
      "Kidz Bop 8\n",
      "This Is Love, This Is Murderous\n",
      "After Taxes\n",
      "\n",
      "Top 5 for Topic 8:\n",
      "\n",
      "The Diary\n",
      "You Can't See Me\n",
      "Greatest Hits\n",
      "It's on  187um Killa\n",
      "Black Rob Report\n",
      "\n",
      "Bottom 5 for 8\n",
      "\n",
      "Only in Amerika\n",
      "Savage Life\n",
      "Down for Life\n",
      "White Blood Cells\n",
      "Kidz Bop 8\n",
      "\n",
      "Top 5 for Topic 9:\n",
      "\n",
      "Van Halen\n",
      "Van Halen III\n",
      "Fair Warning\n",
      "Best of Both Worlds\n",
      "Best of Van Halen, Vol. 1\n",
      "\n",
      "Bottom 5 for 9\n",
      "\n",
      "Adrenalize\n",
      "G3 - Live in Denver\n",
      "Cherry Pie\n",
      "Heart in Motion\n",
      "Kezia\n",
      "\n",
      "Top 5 for Topic 10:\n",
      "\n",
      "Piano Man\n",
      "Buddy's Baddest: The Best Of Buddy Guy\n",
      "Jagged Little Pill Acoustic\n",
      "From Genesis to Revelation (Original Album)\n",
      "Acoustic\n",
      "\n",
      "Bottom 5 for 10\n",
      "\n",
      "His Best: The Chess 50th Anniversary Collection\n",
      "Permanent Vacation\n",
      "Echoes of Decimation\n",
      "Sailing the Seas of Cheese\n",
      "N Sync\n",
      "\n",
      "Top 5 for Topic 11:\n",
      "\n",
      "Animals\n",
      "Delicate Sound of Thunder\n",
      "The Division Bell\n",
      "Momentary Lapse of Reason\n",
      "Echoes: The Best of Pink Floyd\n",
      "\n",
      "Bottom 5 for 11\n",
      "\n",
      "Warning\n",
      "I\n",
      "30 Seconds to Mars\n",
      "Celebrity\n",
      "Cyclorama\n",
      "\n",
      "Top 5 for Topic 12:\n",
      "\n",
      "Sam's Town\n",
      "Belinda Carlisle - Her Greatest Hits\n",
      "#1's\n",
      "Very Best of Dusty Springfield\n",
      "Elevator\n",
      "\n",
      "Bottom 5 for 12\n",
      "\n",
      "Green River\n",
      "Where You Want To Be\n",
      "Starting Over\n",
      "Brushfire Fairytales\n",
      "Siempre\n",
      "\n",
      "Top 5 for Topic 13:\n",
      "\n",
      "Double Platinum\n",
      "Kiss\n",
      "Symphony: Alive IV\n",
      "Live to Win\n",
      "Paul Stanley\n",
      "\n",
      "Bottom 5 for 13\n",
      "\n",
      "Houses of the Mole'\n",
      "Jesus Christ Superstar (Original London Concept Recording)\n",
      "Official Live\n",
      "White Blood Cells\n",
      "Rocket Ride\n",
      "\n",
      "Top 5 for Topic 14:\n",
      "\n",
      "Spiritual Healing\n",
      "Symbolic\n",
      "Eaten Back to Life\n",
      "Covenant\n",
      "Amongst the Catacombs of Nephren-Ka\n",
      "\n",
      "Bottom 5 for 14\n",
      "\n",
      "Echoes of Decimation\n",
      "One Wish: The Holiday\n",
      "It's Your Call\n",
      "Mellow Gold\n",
      "Elvis: 2nd To None\n",
      "\n",
      "Top 5 for Topic 15:\n",
      "\n",
      "Patsy Cline's Greatest Hits\n",
      "Timeless\n",
      "Van Lear Rose\n",
      "Straight to Hell\n",
      "Put the O Back in Country\n",
      "\n",
      "Bottom 5 for 15\n",
      "\n",
      "Savage Life\n",
      "Road to Ruin\n",
      "King\n",
      "Rubber Factory\n",
      "Creedence Clearwater Revival\n",
      "\n",
      "Top 5 for Topic 16:\n",
      "\n",
      "Bananas\n",
      "Perfect Strangers\n",
      "Rapture of the Deep (digipak)\n",
      "Very Best of Deep Purple\n",
      "Slaves &amp; Masters\n",
      "\n",
      "Bottom 5 for 16\n",
      "\n",
      "Melissa\n",
      "Psalm 69\n",
      "A Hangover You Don't Deserve\n",
      "Dead Again\n",
      "No Pads, No Helmets...Just Balls\n",
      "\n",
      "Top 5 for Topic 17:\n",
      "\n",
      "Hung Up\n",
      "N Sync\n",
      "You Can Dance\n",
      "Confessions on a Dance Floor\n",
      "Listen To Your Heart\n",
      "\n",
      "Bottom 5 for 17\n",
      "\n",
      "Risk\n",
      "No Way Out\n",
      "Welcome Back My Friends to the Show That Never Ends Ladies and Gentlemen\n",
      "Crossfade\n",
      "Enigma - Love Sensuality Devotion: The Greatest Hits\n",
      "\n",
      "Top 5 for Topic 18:\n",
      "\n",
      "Headquarters\n",
      "My Generation (Deluxe Edition)\n",
      "Visitors\n",
      "Days of Future Passed (Deluxe Edition)\n",
      "Perception (6CD/6DVD, Boxset)\n",
      "\n",
      "Bottom 5 for 18\n",
      "\n",
      "Planets\n",
      "Reality Check\n",
      "Kidz Bop 8\n",
      "Powerballin\n",
      "Burn My Eyes\n",
      "\n",
      "Top 5 for Topic 19:\n",
      "\n",
      "Technical Ecstasy\n",
      "Speak of the Devil\n",
      "Live Evil\n",
      "Heaven And Hell\n",
      "Cross Purposes\n",
      "\n",
      "Bottom 5 for 19\n",
      "\n",
      "Voyeurs\n",
      "Pray For The Soul of Betty\n",
      "Garage Inc\n",
      "Bloody Kisses\n",
      "Some Enchanted Evening\n",
      "\n",
      "Top 5 for Topic 20:\n",
      "\n",
      "Love Over Gold\n",
      "Best Of Dire Straits &amp; Mark Knopfler: Private Investigations (2CD)\n",
      "Brothers in Arms\n",
      "Making Movies\n",
      "The Heart of tha Streetz, Vol. 1\n",
      "\n",
      "Bottom 5 for 20\n",
      "\n",
      "Rappa Ternt Sanga\n",
      "Corey Clark\n",
      "Lifted or The Story Is in the Soil, Keep Your Ear to the Ground\n",
      "Stories &amp; Alibis\n",
      "For the Love of Strange Medicine\n",
      "\n",
      "Top 5 for Topic 21:\n",
      "\n",
      "Sexto Sentido\n",
      "Love\n",
      "Fillmore East: The Lost Concert Tapes 12-13-68\n",
      "Fijacion Oral vol. 1\n",
      "The Voice of the Sparrow: The Very Best of Edith Piaf\n",
      "\n",
      "Bottom 5 for 21\n",
      "\n",
      "Barrio Fino\n",
      "Britney Spears - Greatest Hits - My Prerogative\n",
      "Jethro Tull A+ (w/ Bonus DVD)\n",
      "Greatest Hits\n",
      "The Joshua Tree\n",
      "\n",
      "Top 5 for Topic 22:\n",
      "\n",
      "Rush - Replay [3 DVD/CD Box Set]\n",
      "Motley Crue: Carnival of Sins\n",
      "The Wildlife Concert\n",
      "Rush - R30\n",
      "Rush - Rush in Rio\n",
      "\n",
      "Bottom 5 for 22\n",
      "\n",
      "Joan Baez - Greatest Hits\n",
      "Diabolus in Musica\n",
      "Greatest Hitz\n",
      "Rumor Has It\n",
      "New Found Power\n",
      "\n",
      "Top 5 for Topic 23:\n",
      "\n",
      "Powerslave\n",
      "Somewhere in Time\n",
      "Seventh Son of a Seventh Son\n",
      "Brave New World\n",
      "Number of the Beast\n",
      "\n",
      "Bottom 5 for 23\n",
      "\n",
      "Silence in Black &amp; White\n",
      "Subhuman Race\n",
      "Someone in Control\n",
      "Don't Cha\n",
      "Pleasure Principle\n",
      "\n",
      "Top 5 for Topic 24:\n",
      "\n",
      "The Razors Edge\n",
      "Highway to Hell\n",
      "Let There Be Rock\n",
      "Fly on the Wall\n",
      "Ballbreaker [Vinyl]\n",
      "\n",
      "Bottom 5 for 24\n",
      "\n",
      "All The Way...A Decade of Song\n",
      "Solid Gold Hits\n",
      "Now That's What I Call Music! 17\n",
      "Bent Out of Shape\n",
      "Warning\n",
      "\n",
      "Top 5 for Topic 25:\n",
      "\n",
      "All The Way...A Decade of Song\n",
      "Strange Little Girls\n",
      "Trash\n",
      "Portrait of an American Family\n",
      "The Water is Wide\n",
      "\n",
      "Bottom 5 for 25\n",
      "\n",
      "Kidz Bop 8\n",
      "Savage Life\n",
      "Rumor Has It\n",
      "No Pads, No Helmets...Just Balls\n",
      "Powerballin\n",
      "\n",
      "Top 5 for Topic 26:\n",
      "\n",
      "A Christmas Together\n",
      "Finisterre\n",
      "Lovehatetragedy\n",
      "Firefall - Greatest Hits\n",
      "Heart in Motion\n",
      "\n",
      "Bottom 5 for 26\n",
      "\n",
      "What If It's You\n",
      "Down for Life\n",
      "This Left Feels Right\n",
      "Sweatsuit\n",
      "R U Still Down\n",
      "\n",
      "Top 5 for Topic 27:\n",
      "\n",
      "Madonna\n",
      "#1 Record/Radio City\n",
      "Supernova\n",
      "Star Wars Episode III: Revenge of the Sith - Original Motion Picture Soundtrack\n",
      "So Tonight That I Might See\n",
      "\n",
      "Bottom 5 for 27\n",
      "\n",
      "Coverage\n",
      "Savior Sorrow\n",
      "Healthy In Paranoid Times\n",
      "The Best Of Kansas\n",
      "Nymphetamine\n",
      "\n",
      "Top 5 for Topic 28:\n",
      "\n",
      "Love Beach\n",
      "Fandango\n",
      "Be\n",
      "Paradise Theatre\n",
      "If I Could Turn Back Time: Cher's Greatest Hits\n",
      "\n",
      "Bottom 5 for 28\n",
      "\n",
      "Reinkaos\n",
      "Thoughts of a Predicate Felon\n",
      "Passover\n",
      "You Fail Me\n",
      "Only in Amerika\n",
      "\n",
      "Top 5 for Topic 29:\n",
      "\n",
      "Styx - Greatest Hits\n",
      "Olias of Sunhillow\n",
      "Wherever You Are\n",
      "Solid Gold Hits\n",
      "Ultimate O'Jays\n",
      "\n",
      "Bottom 5 for 29\n",
      "\n",
      "Temple of Shadows\n",
      "Harry Potter &amp; The Goblet of Fire\n",
      "Stench of Redemption\n",
      "Voyeurs\n",
      "Machina: The Machines of God\n",
      "\n"
     ]
    }
   ],
   "source": [
    "print_extreme_albums(df_ratings)"
   ]
  },
  {
   "cell_type": "code",
   "execution_count": 71,
   "metadata": {
    "collapsed": false
   },
   "outputs": [
    {
     "name": "stdout",
     "output_type": "stream",
     "text": [
      "Top NLP recommendations for Live at the Regal by B.B. King:\n"
     ]
    },
    {
     "data": {
      "text/plain": [
       "['Live at the Regal',\n",
       " 'Kicking Television: Live in Chicago',\n",
       " 'Aladdin Sane',\n",
       " \"Honkin' On Bobo\",\n",
       " 'Otis Blue',\n",
       " 'Be Not Nobody',\n",
       " 'Robert Johnson: The Complete Recordings',\n",
       " 'The Stone Roses',\n",
       " 'Waiting for Columbus',\n",
       " 'Blind Faith - London Hyde Park 1969']"
      ]
     },
     "execution_count": 71,
     "metadata": {},
     "output_type": "execute_result"
    }
   ],
   "source": [
    "print('Top NLP recommendations for', asin_title_dic['B000002P72'], 'by B.B. King:')\n",
    "[asin_title_dic[rec[1]] for rec in nlp_recommender('B000002P72')][:10]"
   ]
  },
  {
   "cell_type": "markdown",
   "metadata": {},
   "source": [
    "# <a class=\"anchor\" id=\"Interactive-Recommender\"> Interactive Recommender </a>\n",
    "#### [Table of Contents](#Table-of-Contents) "
   ]
  },
  {
   "cell_type": "markdown",
   "metadata": {},
   "source": [
    "### The final recommendation engine works by first looking at all of the NLP recommendations. Then, it takes the percentage, P passed in to the recommender function, and filters out NLP recommendations which are not in the top $(1-P)$ percent of the collaborative recommendation engine. Thus, as we see below, when $P=1$, we get the NLP recommender back, we get a mixture at $P=0.5$ and as $P \\to 0$, the recommendations approach the collaborative filter. On the website, the user can toggle P."
   ]
  },
  {
   "cell_type": "code",
   "execution_count": 57,
   "metadata": {
    "collapsed": false
   },
   "outputs": [],
   "source": [
    "def recommender(asin,perc):\n",
    "    '''given album asin and float perc in (0,1), return top 5 nlp recommendations subject to constraint of being in \n",
    "    top perc percent of all album recs'''\n",
    "    \n",
    "    nlp_recs = nlp_recommender(asin)\n",
    "    collab_recs = collab_recommender(asin)\n",
    "    num_albums = len(collab_recs)\n",
    "    cut_off = int(num_albums*perc)\n",
    "    top_perc_albums = [entry[1] for entry in collab_recs[:cut_off+5]]    \n",
    "    \n",
    "    recs = []\n",
    "    while len(recs)<6:\n",
    "        next_rec = nlp_recs.pop(0)[1]\n",
    "        if next_rec in top_perc_albums:\n",
    "            recs.append(next_rec)\n",
    "            \n",
    "    return recs"
   ]
  },
  {
   "cell_type": "code",
   "execution_count": 74,
   "metadata": {
    "collapsed": false
   },
   "outputs": [
    {
     "data": {
      "text/plain": [
       "['Live at the Regal',\n",
       " 'Kicking Television: Live in Chicago',\n",
       " 'Aladdin Sane',\n",
       " \"Honkin' On Bobo\",\n",
       " 'Otis Blue',\n",
       " 'Be Not Nobody']"
      ]
     },
     "execution_count": 74,
     "metadata": {},
     "output_type": "execute_result"
    }
   ],
   "source": [
    "[asin_title_dic[rec] for rec in recommender('B000002P72', 1)]"
   ]
  },
  {
   "cell_type": "code",
   "execution_count": 75,
   "metadata": {
    "collapsed": false
   },
   "outputs": [
    {
     "data": {
      "text/plain": [
       "['Live at the Regal',\n",
       " 'Kicking Television: Live in Chicago',\n",
       " 'Aladdin Sane',\n",
       " 'Otis Blue',\n",
       " 'Robert Johnson: The Complete Recordings',\n",
       " 'The Stone Roses']"
      ]
     },
     "execution_count": 75,
     "metadata": {},
     "output_type": "execute_result"
    }
   ],
   "source": [
    "[asin_title_dic[rec] for rec in recommender('B000002P72', 0.5)]"
   ]
  },
  {
   "cell_type": "code",
   "execution_count": 95,
   "metadata": {
    "collapsed": false
   },
   "outputs": [
    {
     "data": {
      "text/plain": [
       "['Live at the Regal',\n",
       " 'The Fillmore Concerts',\n",
       " \"Workingman's Dead\",\n",
       " 'Live at the Fillmore',\n",
       " 'Round About Midnight',\n",
       " 'Blue Train']"
      ]
     },
     "execution_count": 95,
     "metadata": {},
     "output_type": "execute_result"
    }
   ],
   "source": [
    "[asin_title_dic[rec] for rec in recommender('B000002P72',0)]"
   ]
  },
  {
   "cell_type": "markdown",
   "metadata": {
    "collapsed": true
   },
   "source": [
    "# <a class=\"anchor\" id=\"Text-Based-Recommender\"> Text Based Recommender </a>\n",
    "#### [Table of Contents](#Table-of-Contents) "
   ]
  },
  {
   "cell_type": "markdown",
   "metadata": {},
   "source": [
    "### The text based recommender takes a user's textual request, and finds the albums that were described most similarly. Notice that only the NLP recommender structure is being used here (not the collaborative)."
   ]
  },
  {
   "cell_type": "code",
   "execution_count": 96,
   "metadata": {
    "collapsed": true
   },
   "outputs": [],
   "source": [
    "def text_to_album(text):\n",
    "    sentence_tokenizer = PunktSentenceTokenizer()\n",
    "    sentences = sentence_tokenizer.tokenize(text)\n",
    "    desired_album = make_topics_sentiments(sentences, model, vect)\n",
    "    df_desired = pd.DataFrame(desired_album).transpose()\n",
    "    df_desired = normalize_and_round(df_desired, 100)\n",
    "    comparisons = cosine_similarity(df_ratings,df_desired)\n",
    "    return [dic_asin[idx] for idx in np.array([x[0] for x in comparisons]).argsort()[-5:]][::-1]"
   ]
  },
  {
   "cell_type": "code",
   "execution_count": 103,
   "metadata": {
    "collapsed": false
   },
   "outputs": [
    {
     "data": {
      "text/plain": [
       "['Strange Little Girls',\n",
       " 'Trash',\n",
       " 'Portrait of an American Family',\n",
       " 'Yield',\n",
       " 'Lost Dogs']"
      ]
     },
     "execution_count": 103,
     "metadata": {},
     "output_type": "execute_result"
    }
   ],
   "source": [
    "text = \"childish innocent music. something with fun lyrics\"\n",
    "[asin_title_dic[rec] for rec in text_to_album(text)]"
   ]
  },
  {
   "cell_type": "markdown",
   "metadata": {
    "collapsed": true
   },
   "source": [
    "# <a class=\"anchor\" id=\"Musical-Mashup\"> Musical Mashup </a>\n",
    "#### [Table of Contents](#Table-of-Contents) "
   ]
  },
  {
   "cell_type": "markdown",
   "metadata": {},
   "source": [
    "### The musical mash up works by getting two album inputs from the user, adding the corresponding vectors in the 24-dimensional NLP space, and finding the nearest vectors/albums to the result in cosine similarity. This is the same as averaging the characteristics of the given albums. Below, we see that the mash up of Johnny Cash and N.W.A. is Kid Rock."
   ]
  },
  {
   "cell_type": "code",
   "execution_count": 104,
   "metadata": {
    "collapsed": true
   },
   "outputs": [],
   "source": [
    "def mashup(asin1,asin2):\n",
    "    new_album = pd.DataFrame(df_ratings.loc[asin1]+df_ratings.loc[asin2]).transpose() \n",
    "    new_album = new_album.drop([1,18,20,27,28,29], axis=1)\n",
    "    comparisons = cosine_similarity(df_ratings_topics,new_album)\n",
    "    return [dic_asin[idx] for idx in np.array([x[0] for x in comparisons]).argsort()[-5:]][::-1]"
   ]
  },
  {
   "cell_type": "code",
   "execution_count": 108,
   "metadata": {
    "collapsed": false
   },
   "outputs": [
    {
     "name": "stdout",
     "output_type": "stream",
     "text": [
      "The mashup of At Folsom Prison and Straight Outta Compton is\n"
     ]
    },
    {
     "data": {
      "text/plain": [
       "['Devil Without A Cause',\n",
       " 'In My Lifetime 1',\n",
       " 'The B. Coming',\n",
       " 'Reanimation',\n",
       " 'Buck The World']"
      ]
     },
     "execution_count": 108,
     "metadata": {},
     "output_type": "execute_result"
    }
   ],
   "source": [
    "print('The mashup of', asin_title_dic['B000028U0Y'], 'and', asin_title_dic['B000003B6J'], 'is')\n",
    "[asin_title_dic[rec] for rec in mashup('B000028U0Y', 'B000003B6J')]"
   ]
  }
 ],
 "metadata": {
  "anaconda-cloud": {},
  "kernelspec": {
   "display_name": "Python [default]",
   "language": "python",
   "name": "python3"
  },
  "language_info": {
   "codemirror_mode": {
    "name": "ipython",
    "version": 3
   },
   "file_extension": ".py",
   "mimetype": "text/x-python",
   "name": "python",
   "nbconvert_exporter": "python",
   "pygments_lexer": "ipython3",
   "version": "3.5.2"
  }
 },
 "nbformat": 4,
 "nbformat_minor": 2
}
